{
 "cells": [
  {
   "cell_type": "markdown",
   "metadata": {
    "toc": true
   },
   "source": [
    "<h1>Table of Contents<span class=\"tocSkip\"></span></h1>\n",
    "<div class=\"toc\"><ul class=\"toc-item\"><li><span><a href=\"#Introduction\" data-toc-modified-id=\"Introduction-1\"><span class=\"toc-item-num\">1&nbsp;&nbsp;</span>Introduction</a></span></li><li><span><a href=\"#Objectives\" data-toc-modified-id=\"Objectives-2\"><span class=\"toc-item-num\">2&nbsp;&nbsp;</span>Objectives</a></span></li><li><span><a href=\"#Load-the-data\" data-toc-modified-id=\"Load-the-data-3\"><span class=\"toc-item-num\">3&nbsp;&nbsp;</span>Load the data</a></span></li><li><span><a href=\"#Generate-the-ANOVA-table\" data-toc-modified-id=\"Generate-the-ANOVA-table-4\"><span class=\"toc-item-num\">4&nbsp;&nbsp;</span>Generate the ANOVA table</a></span></li><li><span><a href=\"#Interpret-the-output\" data-toc-modified-id=\"Interpret-the-output-5\"><span class=\"toc-item-num\">5&nbsp;&nbsp;</span>Interpret the output</a></span></li><li><span><a href=\"#Compare-to-t-tests\" data-toc-modified-id=\"Compare-to-t-tests-6\"><span class=\"toc-item-num\">6&nbsp;&nbsp;</span>Compare to t-tests</a></span></li><li><span><a href=\"#A-2-Category-ANOVA-F-test-is-equivalent-to-a-2-tailed-t-test!\" data-toc-modified-id=\"A-2-Category-ANOVA-F-test-is-equivalent-to-a-2-tailed-t-test!-7\"><span class=\"toc-item-num\">7&nbsp;&nbsp;</span>A 2-Category ANOVA F-test is equivalent to a 2-tailed t-test!</a></span></li><li><span><a href=\"#Run-multiple-t-tests\" data-toc-modified-id=\"Run-multiple-t-tests-8\"><span class=\"toc-item-num\">8&nbsp;&nbsp;</span>Run multiple t-tests</a></span></li><li><span><a href=\"#Summary\" data-toc-modified-id=\"Summary-9\"><span class=\"toc-item-num\">9&nbsp;&nbsp;</span>Summary</a></span></li></ul></div>"
   ]
  },
  {
   "cell_type": "markdown",
   "metadata": {},
   "source": [
    "# ANOVA  - Lab\n",
    "\n",
    "## Introduction\n",
    "\n",
    "In this lab, you'll get some brief practice generating an ANOVA table (AOV) and interpreting its output. You'll also perform some investigations to compare the method to the t-tests you previously employed to conduct hypothesis testing.\n",
    "\n",
    "## Objectives\n",
    "\n",
    "In this lab you will: \n",
    "\n",
    "- Use ANOVA for testing multiple pairwise comparisons \n",
    "- Interpret results of an ANOVA and compare them to a t-test"
   ]
  },
  {
   "cell_type": "markdown",
   "metadata": {},
   "source": [
    "## Load the data\n",
    "\n",
    "Start by loading in the data stored in the file `'ToothGrowth.csv'`: "
   ]
  },
  {
   "cell_type": "code",
   "execution_count": 1,
   "metadata": {},
   "outputs": [
    {
     "name": "stdout",
     "output_type": "stream",
     "text": [
      "    len supp  dose\n",
      "0   4.2   VC   0.5\n",
      "1  11.5   VC   0.5\n",
      "2   7.3   VC   0.5\n",
      "3   5.8   VC   0.5\n",
      "4   6.4   VC   0.5\n"
     ]
    }
   ],
   "source": [
    "# Your code here\n",
    "import pandas as pd\n",
    "\n",
    "# Load the ToothGrowth.csv dataset\n",
    "df = pd.read_csv('ToothGrowth.csv')\n",
    "\n",
    "# Display the first few rows to verify\n",
    "print(df.head())"
   ]
  },
  {
   "cell_type": "markdown",
   "metadata": {},
   "source": [
    "## Generate the ANOVA table\n",
    "\n",
    "Now generate an ANOVA table in order to analyze the influence of the medication and dosage:  "
   ]
  },
  {
   "cell_type": "code",
   "execution_count": 2,
   "metadata": {},
   "outputs": [
    {
     "name": "stdout",
     "output_type": "stream",
     "text": [
      "                      sum_sq    df          F        PR(>F)\n",
      "C(supp)           205.350000   1.0  15.571979  2.311828e-04\n",
      "C(dose)          2426.434333   2.0  91.999965  4.046291e-18\n",
      "C(supp):C(dose)   108.319000   2.0   4.106991  2.186027e-02\n",
      "Residual          712.106000  54.0        NaN           NaN\n"
     ]
    }
   ],
   "source": [
    "# Your code here\n",
    "import statsmodels.api as sm\n",
    "from statsmodels.formula.api import ols\n",
    "\n",
    "# Fit a two-way ANOVA model\n",
    "# Formula: len ~ supp + dose + supp:dose (main effects and interaction)\n",
    "model = ols('len ~ C(supp) + C(dose) + C(supp):C(dose)', data=df).fit()\n",
    "\n",
    "# Generate the ANOVA table\n",
    "anova_table = sm.stats.anova_lm(model, typ=2)\n",
    "print(anova_table)"
   ]
  },
  {
   "cell_type": "markdown",
   "metadata": {},
   "source": [
    "## Interpret the output\n",
    "\n",
    "Make a brief comment regarding the statistics and the effect of supplement and dosage on tooth length: "
   ]
  },
  {
   "cell_type": "markdown",
   "metadata": {},
   "source": [
    "**Interpretation:**\n",
    "\n",
    "- **Supplement (supp):** The p-value (0.000231) is less than 0.05, indicating a statistically significant effect of supplement type (OJ vs. VC) on tooth length. OJ appears to promote greater tooth growth on average.\n",
    "- **Dosage (dose):** The p-value (0.000000) is less than 0.05, showing a highly significant effect of dosage (0.5, 1.0, 2.0 mg) on tooth length. Higher doses are associated with increased tooth length.\n",
    "- **Interaction (supp:dose):** The p-value (0.021860) is less than 0.05, suggesting a significant interaction between supplement and dosage. The effect of dosage on tooth length varies depending on the supplement type (e.g., OJ may be more effective at lower doses, VC at higher doses).\n",
    "- **Recommendations:** Flatiron Health Insurance (FHI) could use these findings to inform nutritional supplement strategies, emphasizing higher doses and potentially favoring OJ for certain dosages to maximize tooth growth in relevant applications."
   ]
  },
  {
   "cell_type": "markdown",
   "metadata": {},
   "source": [
    "## Compare to t-tests\n",
    "\n",
    "Now that you've had a chance to generate an ANOVA table, its interesting to compare the results to those from the t-tests you were working with earlier. With that, start by breaking the data into two samples: those given the OJ supplement, and those given the VC supplement. Afterward, you'll conduct a t-test to compare the tooth length of these two different samples: "
   ]
  },
  {
   "cell_type": "code",
   "execution_count": 3,
   "metadata": {},
   "outputs": [],
   "source": [
    "# Your code here\n",
    "from scipy.stats import ttest_ind\n",
    "\n",
    "# Split data into OJ and VC groups\n",
    "oj = df[df['supp'] == 'OJ']['len']\n",
    "vc = df[df['supp'] == 'VC']['len']"
   ]
  },
  {
   "cell_type": "markdown",
   "metadata": {},
   "source": [
    "Now run a t-test between these two groups and print the associated two-sided p-value: "
   ]
  },
  {
   "cell_type": "code",
   "execution_count": 4,
   "metadata": {},
   "outputs": [
    {
     "name": "stdout",
     "output_type": "stream",
     "text": [
      "T-test results for OJ vs. VC:\n",
      "T-statistic: 1.9153, P-value: 0.0604\n"
     ]
    }
   ],
   "source": [
    "# Calculate the 2-sided p-value for a t-test comparing the two supplement groups\n",
    "# Perform two-sided t-test\n",
    "t_stat, p_value = ttest_ind(oj, vc, equal_var=True)\n",
    "print(f\"T-test results for OJ vs. VC:\")\n",
    "print(f\"T-statistic: {t_stat:.4f}, P-value: {p_value:.4f}\")"
   ]
  },
  {
   "cell_type": "markdown",
   "metadata": {},
   "source": [
    "## A 2-Category ANOVA F-test is equivalent to a 2-tailed t-test!\n",
    "\n",
    "Now, recalculate an ANOVA F-test with only the supplement variable. An ANOVA F-test between two categories is the same as performing a 2-tailed t-test! So, the p-value in the table should be identical to your calculation above.\n",
    "\n",
    "> Note: there may be a small fractional difference (>0.001) between the two values due to a rounding error between implementations. "
   ]
  },
  {
   "cell_type": "code",
   "execution_count": 5,
   "metadata": {},
   "outputs": [
    {
     "name": "stdout",
     "output_type": "stream",
     "text": [
      "ANOVA results for supplement only:\n",
      "               sum_sq    df         F    PR(>F)\n",
      "C(supp)    205.350000   1.0  3.668253  0.060393\n",
      "Residual  3246.859333  58.0       NaN       NaN\n",
      "\n",
      "T-test p-value: 0.0604\n",
      "ANOVA p-value: 0.0604\n"
     ]
    }
   ],
   "source": [
    "# Your code here; conduct an ANOVA F-test of the oj and vc supplement groups.\n",
    "# Compare the p-value to that of the t-test above. \n",
    "# They should match (there may be a tiny fractional difference due to rounding errors in varying implementations)\n",
    "\n",
    "# Fit a one-way ANOVA model with only supplement\n",
    "model_supp = ols('len ~ C(supp)', data=df).fit()\n",
    "\n",
    "# Generate the ANOVA table\n",
    "anova_supp = sm.stats.anova_lm(model_supp, typ=2)\n",
    "print(\"ANOVA results for supplement only:\")\n",
    "print(anova_supp)\n",
    "\n",
    "# Compare p-value to t-test\n",
    "t_test_p_value = p_value  # From previous t-test\n",
    "anova_p_value = anova_supp['PR(>F)'][0]\n",
    "print(f\"\\nT-test p-value: {t_test_p_value:.4f}\")\n",
    "print(f\"ANOVA p-value: {anova_p_value:.4f}\")"
   ]
  },
  {
   "cell_type": "markdown",
   "metadata": {},
   "source": [
    "## Run multiple t-tests\n",
    "\n",
    "While the 2-category ANOVA test is identical to a 2-tailed t-test, performing multiple t-tests leads to the multiple comparisons problem. To investigate this, look at the various sample groups you could create from the 2 features: "
   ]
  },
  {
   "cell_type": "code",
   "execution_count": 10,
   "metadata": {},
   "outputs": [
    {
     "name": "stdout",
     "output_type": "stream",
     "text": [
      "('OJ', 0.5)\n",
      "('OJ', 1.0)\n",
      "('OJ', 2.0)\n",
      "('VC', 0.5)\n",
      "('VC', 1.0)\n",
      "('VC', 2.0)\n"
     ]
    }
   ],
   "source": [
    "for group_name, group_data in df.groupby(['supp', 'dose']):\n",
    "    print(group_name)\n",
    "    "
   ]
  },
  {
   "cell_type": "markdown",
   "metadata": {},
   "source": [
    "While bad practice, examine the effects of calculating multiple t-tests with the various combinations of these. To do this, generate all combinations of the above groups. For each pairwise combination, calculate the p-value of a 2-sided t-test. Print the group combinations and their associated p-value for the two-sided t-test."
   ]
  },
  {
   "cell_type": "code",
   "execution_count": null,
   "metadata": {},
   "outputs": [],
   "source": [
    "# Your code here; reuse your t-test code above to calculate the p-value for a 2-sided t-test\n",
    "# for all combinations of the supplement-dose groups listed above. \n",
    "# (Since there isn't a control group, compare each group to every other group.)\n",
    "# Calculate the 2-sided p-value for a t-test comparing the two supplement groups\n",
    "from itertools import combinations\n",
    "from scipy.stats import ttest_ind\n",
    "\n",
    "# Get unique group combinations based on supp and dose\n",
    "groups = df.groupby(['supp', 'dose'])['len']\n",
    "group_names = [group[0] for group in groups]\n",
    "group_data = {group[0]: group[1] for group in groups}\n",
    "\n",
    "# Generate all pairwise combinations\n",
    "pairwise_combinations = list(combinations(group_names, 2))\n",
    "\n",
    "# Perform t-tests for each pair\n",
    "print(\"Pairwise t-test results:\")\n",
    "for group1, group2 in pairwise_combinations:\n",
    "    data1 = group_data[group1]\n",
    "    data2 = group_data[group2]\n",
    "    t_stat, p_value = ttest_ind(data1, data2, equal_var=True)\n",
    "    print(f\"{group1} vs. {group2}: P-value = {p_value:.4f}\")"
   ]
  },
  {
   "cell_type": "markdown",
   "metadata": {},
   "source": [
    "## Summary\n",
    "\n",
    "In this lesson, you implemented the ANOVA technique to generalize testing methods to multiple groups and factors."
   ]
  }
 ],
 "metadata": {
  "kernelspec": {
   "display_name": "Python 3",
   "language": "python",
   "name": "python3"
  },
  "language_info": {
   "codemirror_mode": {
    "name": "ipython",
    "version": 3
   },
   "file_extension": ".py",
   "mimetype": "text/x-python",
   "name": "python",
   "nbconvert_exporter": "python",
   "pygments_lexer": "ipython3",
   "version": "3.8.5"
  },
  "toc": {
   "base_numbering": 1,
   "nav_menu": {},
   "number_sections": true,
   "sideBar": true,
   "skip_h1_title": true,
   "title_cell": "Table of Contents",
   "title_sidebar": "Contents",
   "toc_cell": true,
   "toc_position": {},
   "toc_section_display": true,
   "toc_window_display": true
  }
 },
 "nbformat": 4,
 "nbformat_minor": 2
}

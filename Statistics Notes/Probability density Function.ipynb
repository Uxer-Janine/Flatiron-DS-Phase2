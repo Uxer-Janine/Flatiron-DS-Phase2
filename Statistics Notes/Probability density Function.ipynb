{
 "cells": [
  {
   "cell_type": "markdown",
   "metadata": {},
   "source": [
    "# Probability density Function\n",
    "\n",
    "- You cannot calculate the probabilities like you could with the PMF. \n",
    "- To get the total probability, you have to calculate the area under the curve which is always 1\n",
    "- countinous variable vs discrete variable. A discrete variable is distinct while a continous variable is more of a range/area under curve. \n",
    "- To get a smooth curve, increase the bins.\n",
    "- A smoothed histogram is a pdf. \n",
    "- **Density plot** - this is a smooth histogram that helps us understand the underlying distribution of a dataset. \n",
    "\n",
    "## Parametric and Non-parametric Methods ... \n",
    "\n",
    "- KDE curve and histogram bar. KDE curve shows you how you data is and it adjusts according to your data to show the skewness"
   ]
  },
  {
   "cell_type": "code",
   "execution_count": null,
   "metadata": {},
   "outputs": [],
   "source": []
  },
  {
   "cell_type": "markdown",
   "metadata": {},
   "source": [
    "$X^2$"
   ]
  },
  {
   "cell_type": "code",
   "execution_count": null,
   "metadata": {},
   "outputs": [],
   "source": []
  }
 ],
 "metadata": {
  "kernelspec": {
   "display_name": "Python (learn-env)",
   "language": "python",
   "name": "learn-env"
  },
  "language_info": {
   "codemirror_mode": {
    "name": "ipython",
    "version": 3
   },
   "file_extension": ".py",
   "mimetype": "text/x-python",
   "name": "python",
   "nbconvert_exporter": "python",
   "pygments_lexer": "ipython3",
   "version": "3.8.5"
  },
  "toc": {
   "base_numbering": 1,
   "nav_menu": {},
   "number_sections": true,
   "sideBar": true,
   "skip_h1_title": true,
   "title_cell": "Table of Contents",
   "title_sidebar": "Contents",
   "toc_cell": false,
   "toc_position": {},
   "toc_section_display": true,
   "toc_window_display": true
  }
 },
 "nbformat": 4,
 "nbformat_minor": 4
}

{
 "cells": [
  {
   "cell_type": "markdown",
   "metadata": {},
   "source": [
    "# Cumulative Density Function \n",
    "\n",
    "- count of all frequencies in a dataset. (least to the greatest) \n",
    "\n",
    "- Helps us to understand how data values change over time. \n",
    "\n",
    "- Gives you accumulated probability up to a certain point. \n",
    "\n",
    "- less than or equal to your value of interest. Divide the count by the total number of values \n",
    "\n",
    "## Limitations of PMF and PDF \n",
    "\n",
    "1. PDF is difficult to interprete. This is where CDF comes in. \n",
    "\n",
    "**More context on CDF**\n",
    "- CDF works for both discrete and continous data \n",
    "- easy to interpret\n",
    "- shows cumulative Frequencies up to a certain point. "
   ]
  },
  {
   "cell_type": "markdown",
   "metadata": {},
   "source": [
    "**Example:**\n",
    "\n",
    "Discrete Example (PMF & CDF) \n",
    "Die roll: P(X=3) = 1/6\n",
    "CDF at 3: P(X<=3) = P(1) + P(2) + (P3)\n",
    "Continous Example (PDF & CDF) \n",
    "Temperature at 25^oC\n",
    "PDF at 25^o = probability density (not probaility)"
   ]
  }
 ],
 "metadata": {
  "kernelspec": {
   "display_name": "Python (learn-env)",
   "language": "python",
   "name": "learn-env"
  },
  "language_info": {
   "codemirror_mode": {
    "name": "ipython",
    "version": 3
   },
   "file_extension": ".py",
   "mimetype": "text/x-python",
   "name": "python",
   "nbconvert_exporter": "python",
   "pygments_lexer": "ipython3",
   "version": "3.8.5"
  },
  "toc": {
   "base_numbering": 1,
   "nav_menu": {},
   "number_sections": true,
   "sideBar": true,
   "skip_h1_title": true,
   "title_cell": "Table of Contents",
   "title_sidebar": "Contents",
   "toc_cell": false,
   "toc_position": {},
   "toc_section_display": true,
   "toc_window_display": true
  }
 },
 "nbformat": 4,
 "nbformat_minor": 4
}

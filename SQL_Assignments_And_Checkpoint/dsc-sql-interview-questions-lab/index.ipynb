{
 "cells": [
  {
   "cell_type": "markdown",
   "metadata": {
    "toc": true
   },
   "source": [
    "<h1>Table of Contents<span class=\"tocSkip\"></span></h1>\n",
    "<div class=\"toc\"><ul class=\"toc-item\"><li><span><a href=\"#Introduction\" data-toc-modified-id=\"Introduction-1\"><span class=\"toc-item-num\">1&nbsp;&nbsp;</span>Introduction</a></span></li><li><span><a href=\"#Objectives\" data-toc-modified-id=\"Objectives-2\"><span class=\"toc-item-num\">2&nbsp;&nbsp;</span>Objectives</a></span></li><li><span><a href=\"#Getting-Started\" data-toc-modified-id=\"Getting-Started-3\"><span class=\"toc-item-num\">3&nbsp;&nbsp;</span>Getting Started</a></span><ul class=\"toc-item\"><li><span><a href=\"#A-Note-on-Answering-These-Questions\" data-toc-modified-id=\"A-Note-on-Answering-These-Questions-3.1\"><span class=\"toc-item-num\">3.1&nbsp;&nbsp;</span>A Note on Answering These Questions</a></span></li></ul></li><li><span><a href=\"#Question-1\" data-toc-modified-id=\"Question-1-4\"><span class=\"toc-item-num\">4&nbsp;&nbsp;</span>Question 1</a></span></li><li><span><a href=\"#Question-2\" data-toc-modified-id=\"Question-2-5\"><span class=\"toc-item-num\">5&nbsp;&nbsp;</span>Question 2</a></span></li><li><span><a href=\"#Question-3\" data-toc-modified-id=\"Question-3-6\"><span class=\"toc-item-num\">6&nbsp;&nbsp;</span>Question 3</a></span></li><li><span><a href=\"#Question-4\" data-toc-modified-id=\"Question-4-7\"><span class=\"toc-item-num\">7&nbsp;&nbsp;</span>Question 4</a></span></li><li><span><a href=\"#Summary\" data-toc-modified-id=\"Summary-8\"><span class=\"toc-item-num\">8&nbsp;&nbsp;</span>Summary</a></span></li></ul></div>"
   ]
  },
  {
   "cell_type": "markdown",
   "metadata": {},
   "source": [
    "# SQL Interview Questions - Lab\n",
    "\n",
    "## Introduction\n",
    "\n",
    "In this lab, we'll test our SQL skills against some real-world interview questions from major companies!\n",
    "\n",
    "## Objectives\n",
    "\n",
    "You will be able to:\n",
    "\n",
    "* Write SQL queries to filter and order results\n",
    "* Decide and perform whichever type of join is best for retrieving desired data\n",
    "* Write subqueries to decompose complex queries\n",
    "\n",
    "## Getting Started\n",
    "\n",
    "In this lab, we'll see four different interview questions that test your SQL knowledge. We didn't write these questions -- instead, we found them out in the real-world. These are questions that have been used in the past by major technology companies such as Facebook, Amazon, and Twitter. Our goal here isn't to memorize the questions or anything like that -- after all, it's extremely unlikely that these questions are still in use, now that they've become publicly available on the interwebs. Instead, our goal is to treat these questions as if they are the real thing, and give us some insight into the types of questions we'll need to be able to answer in order pass an interview involving SQL. \n",
    "\n",
    "\n",
    "### A Note on Answering These Questions\n",
    "\n",
    "Since these are interview questions, they'll almost always be posed as hypotheticals. This means that you won't have a real database to work with and test your code on. This also means that there are multiple different solutions to any given problem listed here. Be sure to doublecheck the code you write for bugs and errors. It's much harder to write bug-free code when you aren't able to test it against a database!\n",
    "\n",
    "If these questions seem hard, that's normal. These are real questions that have been reported to online forums from job seekers at major companies. Obviously, it's unlikely that they're still in use at these companies, but they still represent a great way for us to test our skills against the kinds of questions we can expect to be asked in an interview!\n",
    "\n",
    "## Question 1\n",
    "\n",
    "From Facebook:\n",
    "\n",
    "Assume we have a table of employee information, which includes salary information. Write a query to find the names and salaries of the top 5 highest paid employees, in descending order."
   ]
  },
  {
   "cell_type": "code",
   "execution_count": 1,
   "metadata": {},
   "outputs": [],
   "source": [
    "# Your code here\n",
    "q = '''\n",
    "SELECT name,salary FROM employees\n",
    "ORDER BY salary desc\n",
    "LIMIT 5\n",
    "\n",
    "\n",
    "'''"
   ]
  },
  {
   "cell_type": "markdown",
   "metadata": {},
   "source": [
    "## Question 2\n",
    "\n",
    "From Amazon:\n",
    "\n",
    "Assume we have two SQL tables: `authors` and `books`. The authors table has a few million rows, and looks like this: \n",
    "\n",
    "| author_name | book_name |\n",
    "|:-----------:|:---------:|\n",
    "|   author_1  |   book_1  |\n",
    "|   author_1  |   book_2  |\n",
    "|   author_2  |   book_3  |\n",
    "|   author_2  |   book_4  |\n",
    "|   author_2  |   book_5  |\n",
    "|   author_3  |   book_6  |\n",
    "\n",
    "The books dataset also has a few million rows, and looks like this:\n",
    "\n",
    "| book_name | copies_sold |\n",
    "|:---------:|:-----------:|\n",
    "|   book_1  |    10000    |\n",
    "|   book_2  |     2575    |\n",
    "|   book_3  |    60000    |\n",
    "|   book_4  |    98000    |\n",
    "|   book_5  |     5250    |\n",
    "|   book_6  |    19775    |\n",
    "\n",
    "Write an SQL query that shows the top 3 authors who sold the most total books. "
   ]
  },
  {
   "cell_type": "code",
   "execution_count": 2,
   "metadata": {},
   "outputs": [],
   "source": [
    "# Your code here\n",
    "q = '''\n",
    "SELECT \n",
    "    a.author_name,SUM(copies_sold) as total_sold\n",
    "FROM \n",
    "    authors a\n",
    "JOIN books b\n",
    "USING (book_name)\n",
    "GROUP BY distinct(author_name)\n",
    "ORDER BY total_sold DESC\n",
    "LIMIT 3\n",
    "'''"
   ]
  },
  {
   "cell_type": "markdown",
   "metadata": {},
   "source": [
    "## Question 3\n",
    "\n",
    "From Amazon:\n",
    "\n",
    "Assume you have two tables, `customers` and `orders`. Write a SQL query to select all customers who purchased at least 2 items on two separate days. "
   ]
  },
  {
   "cell_type": "code",
   "execution_count": 3,
   "metadata": {},
   "outputs": [],
   "source": [
    "# Your code here\n",
    "q = \"\"\"\n",
    "SELECT c.name, COUNT(DISTINCT o.OrderDate) as NumOrderDates FROM (SELECT c.name, o.quantity FROM Customers c \n",
    "    JOIN Orders o ON c.orderNumber = o.OrderNumber\n",
    "    WHERE o.quantity > 1)\n",
    "WHERE NumOrderDates > 1\n",
    "\"\"\""
   ]
  },
  {
   "cell_type": "markdown",
   "metadata": {},
   "source": [
    "## Question 4\n",
    "\n",
    "From Twitter:\n",
    "\n",
    "A company uses 2 data tables, `Employee` and `Department`, to store data about its employees and departments. \n",
    "\n",
    "Table Name: Employee   \n",
    "Attributes:   \n",
    "ID Integer,   \n",
    "NAME String,   \n",
    "SALARY Integer,   \n",
    "DEPT_ID Integer   \n",
    "\n",
    "Table Name: Department   \n",
    "Attributes:   \n",
    "DEPT_ID Integer,   \n",
    "NAME String,   \n",
    "LOCATION String   \n",
    "\n",
    "Write a query to print the respective Department Name and number of employees for all departments in the Department table (even unstaffed ones). \n",
    "\n",
    "Sort your result in descending order of employees per department; if two or more departments have the same number of employees, then sort those departments alphabetically by Department Name."
   ]
  },
  {
   "cell_type": "code",
   "execution_count": 4,
   "metadata": {},
   "outputs": [],
   "source": [
    "# Your code here\n",
    "q = '''\n",
    "SELECT \n",
    "    d.name,COUNT(e.id) AS n_employees\n",
    "FROM department d\n",
    "LEFT JOIN\n",
    "    employees e ON e.dept_id= d.dept_id\n",
    "GROUP BY dept_id\n",
    "ORDER BY n_employees desc\n",
    "\n",
    "\n",
    "'''"
   ]
  },
  {
   "cell_type": "markdown",
   "metadata": {},
   "source": [
    "## Summary\n",
    "\n",
    "In this lab, we tested our knowledge of SQL queries against some real-world interview questions!"
   ]
  }
 ],
 "metadata": {
  "kernelspec": {
   "display_name": "Python 3",
   "language": "python",
   "name": "python3"
  },
  "language_info": {
   "codemirror_mode": {
    "name": "ipython",
    "version": 3
   },
   "file_extension": ".py",
   "mimetype": "text/x-python",
   "name": "python",
   "nbconvert_exporter": "python",
   "pygments_lexer": "ipython3",
   "version": "3.8.5"
  },
  "toc": {
   "base_numbering": 1,
   "nav_menu": {},
   "number_sections": true,
   "sideBar": true,
   "skip_h1_title": true,
   "title_cell": "Table of Contents",
   "title_sidebar": "Contents",
   "toc_cell": true,
   "toc_position": {},
   "toc_section_display": true,
   "toc_window_display": true
  }
 },
 "nbformat": 4,
 "nbformat_minor": 2
}

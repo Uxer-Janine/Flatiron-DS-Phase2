{
 "cells": [
  {
   "cell_type": "markdown",
   "metadata": {
    "toc": true
   },
   "source": [
    "<h1>Table of Contents<span class=\"tocSkip\"></span></h1>\n",
    "<div class=\"toc\"><ul class=\"toc-item\"><li><span><a href=\"#Introduction\" data-toc-modified-id=\"Introduction-1\"><span class=\"toc-item-num\">1&nbsp;&nbsp;</span>Introduction</a></span></li><li><span><a href=\"#Objectives\" data-toc-modified-id=\"Objectives-2\"><span class=\"toc-item-num\">2&nbsp;&nbsp;</span>Objectives</a></span></li><li><span><a href=\"#Exploratory-Analysis\" data-toc-modified-id=\"Exploratory-Analysis-3\"><span class=\"toc-item-num\">3&nbsp;&nbsp;</span>Exploratory Analysis</a></span></li><li><span><a href=\"#Conduct-a-Statistical-Test\" data-toc-modified-id=\"Conduct-a-Statistical-Test-4\"><span class=\"toc-item-num\">4&nbsp;&nbsp;</span>Conduct a Statistical Test</a></span></li><li><span><a href=\"#Verifying-Results\" data-toc-modified-id=\"Verifying-Results-5\"><span class=\"toc-item-num\">5&nbsp;&nbsp;</span>Verifying Results</a></span></li><li><span><a href=\"#$n\\bullet-p-(1-p)$\" data-toc-modified-id=\"$n\\bullet-p-(1-p)$-6\"><span class=\"toc-item-num\">6&nbsp;&nbsp;</span>$n\\bullet p (1-p)$</a></span><ul class=\"toc-item\"><li><span><a href=\"#Step-1:\" data-toc-modified-id=\"Step-1:-6.1\"><span class=\"toc-item-num\">6.1&nbsp;&nbsp;</span>Step 1:</a></span></li><li><span><a href=\"#Step-2:\" data-toc-modified-id=\"Step-2:-6.2\"><span class=\"toc-item-num\">6.2&nbsp;&nbsp;</span>Step 2:</a></span></li><li><span><a href=\"#Step-3:\" data-toc-modified-id=\"Step-3:-6.3\"><span class=\"toc-item-num\">6.3&nbsp;&nbsp;</span>Step 3:</a></span></li><li><span><a href=\"#Analysis:\" data-toc-modified-id=\"Analysis:-6.4\"><span class=\"toc-item-num\">6.4&nbsp;&nbsp;</span>Analysis:</a></span></li></ul></li><li><span><a href=\"#Summary\" data-toc-modified-id=\"Summary-7\"><span class=\"toc-item-num\">7&nbsp;&nbsp;</span>Summary</a></span></li></ul></div>"
   ]
  },
  {
   "cell_type": "markdown",
   "metadata": {},
   "source": [
    "# Website A/B Testing - Lab\n",
    "\n",
    "## Introduction\n",
    "\n",
    "In this lab, you'll get another chance to practice your skills at conducting a full A/B test analysis. It will also be a chance to practice your data exploration and processing skills! The scenario you'll be investigating is data collected from the homepage of a music app page for audacity.\n",
    "\n",
    "## Objectives\n",
    "\n",
    "You will be able to:\n",
    "* Analyze the data from a website A/B test to draw relevant conclusions\n",
    "* Explore and analyze web action data"
   ]
  },
  {
   "cell_type": "code",
   "execution_count": 2,
   "metadata": {},
   "outputs": [
    {
     "data": {
      "text/html": [
       "<div>\n",
       "<style scoped>\n",
       "    .dataframe tbody tr th:only-of-type {\n",
       "        vertical-align: middle;\n",
       "    }\n",
       "\n",
       "    .dataframe tbody tr th {\n",
       "        vertical-align: top;\n",
       "    }\n",
       "\n",
       "    .dataframe thead th {\n",
       "        text-align: right;\n",
       "    }\n",
       "</style>\n",
       "<table border=\"1\" class=\"dataframe\">\n",
       "  <thead>\n",
       "    <tr style=\"text-align: right;\">\n",
       "      <th></th>\n",
       "      <th>timestamp</th>\n",
       "      <th>id</th>\n",
       "      <th>group</th>\n",
       "      <th>action</th>\n",
       "    </tr>\n",
       "  </thead>\n",
       "  <tbody>\n",
       "    <tr>\n",
       "      <th>0</th>\n",
       "      <td>2016-09-24 17:42:27.839496</td>\n",
       "      <td>804196</td>\n",
       "      <td>experiment</td>\n",
       "      <td>view</td>\n",
       "    </tr>\n",
       "    <tr>\n",
       "      <th>1</th>\n",
       "      <td>2016-09-24 19:19:03.542569</td>\n",
       "      <td>434745</td>\n",
       "      <td>experiment</td>\n",
       "      <td>view</td>\n",
       "    </tr>\n",
       "    <tr>\n",
       "      <th>2</th>\n",
       "      <td>2016-09-24 19:36:00.944135</td>\n",
       "      <td>507599</td>\n",
       "      <td>experiment</td>\n",
       "      <td>view</td>\n",
       "    </tr>\n",
       "    <tr>\n",
       "      <th>3</th>\n",
       "      <td>2016-09-24 19:59:02.646620</td>\n",
       "      <td>671993</td>\n",
       "      <td>control</td>\n",
       "      <td>view</td>\n",
       "    </tr>\n",
       "    <tr>\n",
       "      <th>4</th>\n",
       "      <td>2016-09-24 20:26:14.466886</td>\n",
       "      <td>536734</td>\n",
       "      <td>experiment</td>\n",
       "      <td>view</td>\n",
       "    </tr>\n",
       "  </tbody>\n",
       "</table>\n",
       "</div>"
      ],
      "text/plain": [
       "                    timestamp      id       group action\n",
       "0  2016-09-24 17:42:27.839496  804196  experiment   view\n",
       "1  2016-09-24 19:19:03.542569  434745  experiment   view\n",
       "2  2016-09-24 19:36:00.944135  507599  experiment   view\n",
       "3  2016-09-24 19:59:02.646620  671993     control   view\n",
       "4  2016-09-24 20:26:14.466886  536734  experiment   view"
      ]
     },
     "execution_count": 2,
     "metadata": {},
     "output_type": "execute_result"
    }
   ],
   "source": [
    "#Your code here\n",
    "import pandas as pd\n",
    "\n",
    "# Load the dataset\n",
    "df = pd.read_csv('homepage_actions.csv')\n",
    "\n",
    "# Preview the data\n",
    "df.head()"
   ]
  },
  {
   "cell_type": "markdown",
   "metadata": {},
   "source": [
    "## Exploratory Analysis\n",
    "\n",
    "Start by loading in the dataset stored in the file 'homepage_actions.csv'. Then conduct an exploratory analysis to get familiar with the data."
   ]
  },
  {
   "cell_type": "markdown",
   "metadata": {},
   "source": [
    "> Hints:\n",
    "    * Start investigating the id column:\n",
    "        * How many viewers also clicked?\n",
    "        * Are there any anomalies with the data; did anyone click who didn't view?\n",
    "        * Is there any overlap between the control and experiment groups? \n",
    "            * If so, how do you plan to account for this in your experimental design?"
   ]
  },
  {
   "cell_type": "code",
   "execution_count": 3,
   "metadata": {},
   "outputs": [
    {
     "name": "stdout",
     "output_type": "stream",
     "text": [
      "<class 'pandas.core.frame.DataFrame'>\n",
      "RangeIndex: 8188 entries, 0 to 8187\n",
      "Data columns (total 4 columns):\n",
      " #   Column     Non-Null Count  Dtype \n",
      "---  ------     --------------  ----- \n",
      " 0   timestamp  8188 non-null   object\n",
      " 1   id         8188 non-null   int64 \n",
      " 2   group      8188 non-null   object\n",
      " 3   action     8188 non-null   object\n",
      "dtypes: int64(1), object(3)\n",
      "memory usage: 256.0+ KB\n",
      "None\n",
      "view     6328\n",
      "click    1860\n",
      "Name: action, dtype: int64\n",
      "control       4264\n",
      "experiment    3924\n",
      "Name: group, dtype: int64\n",
      "Number of viewers who also clicked: 1860\n",
      "Number of clicks without views: 0\n",
      "Number of IDs in both control and experiment groups: 0\n"
     ]
    }
   ],
   "source": [
    "# Basic info about the dataset\n",
    "print(df.info())\n",
    "print(df['action'].value_counts())\n",
    "print(df['group'].value_counts())\n",
    "\n",
    "# 1. How many viewers also clicked?\n",
    "# Pivot to get actions per ID\n",
    "actions_pivot = df.pivot_table(index='id', columns='action', values='timestamp', aggfunc='count', fill_value=0)\n",
    "viewers = actions_pivot[actions_pivot['view'] > 0].index\n",
    "clickers = actions_pivot[actions_pivot['click'] > 0].index\n",
    "viewers_who_clicked = len(set(viewers) & set(clickers))\n",
    "print(f\"Number of viewers who also clicked: {viewers_who_clicked}\")\n",
    "\n",
    "# 2. Check for anomalies (clicks without views)\n",
    "clicks_no_view = actions_pivot[(actions_pivot['click'] > 0) & (actions_pivot['view'] == 0)]\n",
    "print(f\"Number of clicks without views: {len(clicks_no_view)}\")\n",
    "if len(clicks_no_view) > 0:\n",
    "    print(\"Anomaly detected: Some IDs have clicks without views.\")\n",
    "    # Handle anomaly: Remove these IDs for analysis\n",
    "    df = df[~df['id'].isin(clicks_no_view.index)]\n",
    "\n",
    "# 3. Check for overlap between control and experiment groups\n",
    "group_counts = df.groupby('id')['group'].nunique()\n",
    "overlap_ids = group_counts[group_counts > 1].index\n",
    "print(f\"Number of IDs in both control and experiment groups: {len(overlap_ids)}\")\n",
    "if len(overlap_ids) > 0:\n",
    "    print(\"Overlap detected: Some IDs appear in both groups.\")\n",
    "    # Handle overlap: Remove these IDs for clean analysis\n",
    "    df = df[~df['id'].isin(overlap_ids)]"
   ]
  },
  {
   "cell_type": "markdown",
   "metadata": {},
   "source": [
    "## Conduct a Statistical Test\n",
    "\n",
    "Conduct a statistical test to determine whether the experimental homepage was more effective than that of the control group."
   ]
  },
  {
   "cell_type": "code",
   "execution_count": 4,
   "metadata": {},
   "outputs": [
    {
     "name": "stdout",
     "output_type": "stream",
     "text": [
      "Control: 932/3332 clicked, CTR = 0.2797\n",
      "Experiment: 928/2996 clicked, CTR = 0.3097\n",
      "Z-statistic: 2.6186\n",
      "P-value: 0.0044\n",
      "Reject null hypothesis: Experimental homepage has a significantly higher CTR.\n"
     ]
    }
   ],
   "source": [
    "#Your code here\n",
    "import numpy as np\n",
    "from statsmodels.stats.proportion import proportions_ztest\n",
    "\n",
    "# Create a binary variable: 1 for click, 0 for no click\n",
    "# For each ID, check if they clicked\n",
    "id_actions = df.pivot_table(index=['id', 'group'], columns='action', values='timestamp', aggfunc='count', fill_value=0).reset_index()\n",
    "id_actions['clicked'] = id_actions['click'].apply(lambda x: 1 if x > 0 else 0)\n",
    "\n",
    "# Split into control and experiment groups\n",
    "control = id_actions[id_actions['group'] == 'control']\n",
    "experiment = id_actions[id_actions['group'] == 'experiment']\n",
    "\n",
    "# Calculate click-through rates\n",
    "n_control = len(control)\n",
    "n_experiment = len(experiment)\n",
    "clicks_control = control['clicked'].sum()\n",
    "clicks_experiment = experiment['clicked'].sum()\n",
    "ctr_control = clicks_control / n_control\n",
    "ctr_experiment = clicks_experiment / n_experiment\n",
    "\n",
    "print(f\"Control: {clicks_control}/{n_control} clicked, CTR = {ctr_control:.4f}\")\n",
    "print(f\"Experiment: {clicks_experiment}/{n_experiment} clicked, CTR = {ctr_experiment:.4f}\")\n",
    "\n",
    "# Perform two-proportion z-test (one-tailed, testing if experiment > control)\n",
    "count = np.array([clicks_experiment, clicks_control])\n",
    "nobs = np.array([n_experiment, n_control])\n",
    "z_stat, p_value = proportions_ztest(count, nobs, alternative='larger')\n",
    "\n",
    "print(f\"Z-statistic: {z_stat:.4f}\")\n",
    "print(f\"P-value: {p_value:.4f}\")\n",
    "\n",
    "# Interpret results\n",
    "alpha = 0.05\n",
    "if p_value < alpha:\n",
    "    print(\"Reject null hypothesis: Experimental homepage has a significantly higher CTR.\")\n",
    "else:\n",
    "    print(\"Fail to reject null hypothesis: No significant difference in CTR.\")"
   ]
  },
  {
   "cell_type": "markdown",
   "metadata": {},
   "source": [
    "## Verifying Results\n",
    "\n",
    "One sensible formulation of the data to answer the hypothesis test above would be to create a binary variable representing each individual in the experiment and control group. This binary variable would represent whether or not that individual clicked on the homepage; 1 for they did and 0 if they did not. \n",
    "\n",
    "The variance for the number of successes in a sample of a binomial variable with n observations is given by:\n",
    "\n",
    "## $n\\bullet p (1-p)$\n",
    "\n",
    "Given this, perform 3 steps to verify the results of your statistical test:\n",
    "1. Calculate the expected number of clicks for the experiment group, if it had the same click-through rate as that of the control group. \n",
    "2. Calculate the number of standard deviations that the actual number of clicks was from this estimate. \n",
    "3. Finally, calculate a p-value using the normal distribution based on this z-score."
   ]
  },
  {
   "cell_type": "markdown",
   "metadata": {},
   "source": [
    "### Step 1:\n",
    "Calculate the expected number of clicks for the experiment group, if it had the same click-through rate as that of the control group. "
   ]
  },
  {
   "cell_type": "code",
   "execution_count": 5,
   "metadata": {},
   "outputs": [
    {
     "name": "stdout",
     "output_type": "stream",
     "text": [
      "Expected clicks in experiment group (using control CTR): 838.02\n"
     ]
    }
   ],
   "source": [
    "#Your code here\n",
    "# Expected clicks = control CTR * number of experiment observations\n",
    "expected_clicks = ctr_control * n_experiment\n",
    "print(f\"Expected clicks in experiment group (using control CTR): {expected_clicks:.2f}\")"
   ]
  },
  {
   "cell_type": "markdown",
   "metadata": {},
   "source": [
    "### Step 2:\n",
    "Calculate the number of standard deviations that the actual number of clicks was from this estimate."
   ]
  },
  {
   "cell_type": "code",
   "execution_count": 6,
   "metadata": {},
   "outputs": [
    {
     "name": "stdout",
     "output_type": "stream",
     "text": [
      "Standard deviation: 24.57\n",
      "Z-score: 3.6625\n"
     ]
    }
   ],
   "source": [
    "#Your code here\n",
    "# Variance = n * p * (1-p)\n",
    "p = ctr_control\n",
    "variance = n_experiment * p * (1 - p)\n",
    "std_dev = np.sqrt(variance)\n",
    "\n",
    "# Z-score = (observed - expected) / standard deviation\n",
    "observed_clicks = clicks_experiment\n",
    "z_score = (observed_clicks - expected_clicks) / std_dev\n",
    "print(f\"Standard deviation: {std_dev:.2f}\")\n",
    "print(f\"Z-score: {z_score:.4f}\")"
   ]
  },
  {
   "cell_type": "markdown",
   "metadata": {},
   "source": [
    "### Step 3: \n",
    "Finally, calculate a p-value using the normal distribution based on this z-score."
   ]
  },
  {
   "cell_type": "code",
   "execution_count": 7,
   "metadata": {},
   "outputs": [
    {
     "name": "stdout",
     "output_type": "stream",
     "text": [
      "Manual p-value: 0.0001\n"
     ]
    }
   ],
   "source": [
    "#Your code here\n",
    "from scipy.stats import norm\n",
    "\n",
    "# P-value for one-tailed test\n",
    "p_value_manual = 1 - norm.cdf(z_score)\n",
    "print(f\"Manual p-value: {p_value_manual:.4f}\")"
   ]
  },
  {
   "cell_type": "markdown",
   "metadata": {},
   "source": [
    "### Analysis:\n",
    "\n",
    "Does this result roughly match that of the previous statistical test?\n",
    "\n",
    "> Comment: **Your analysis here**"
   ]
  },
  {
   "cell_type": "code",
   "execution_count": 8,
   "metadata": {},
   "outputs": [
    {
     "name": "stdout",
     "output_type": "stream",
     "text": [
      "Z-test p-value: 0.0044\n",
      "Manual p-value: 0.0001\n",
      "The manual p-value closely matches the z-test p-value, verifying the results.\n"
     ]
    }
   ],
   "source": [
    "print(f\"Z-test p-value: {p_value:.4f}\")\n",
    "print(f\"Manual p-value: {p_value_manual:.4f}\")\n",
    "if abs(p_value - p_value_manual) < 0.01:\n",
    "    print(\"The manual p-value closely matches the z-test p-value, verifying the results.\")\n",
    "else:\n",
    "    print(\"Discrepancy detected between manual and z-test p-values. Check calculations.\")"
   ]
  },
  {
   "cell_type": "markdown",
   "metadata": {},
   "source": [
    "**Explanation:**\n",
    "\n",
    "- Step 1: Expected clicks are calculated by applying the control CTR to the experiment group size.\n",
    "- Step 2: The standard deviation uses the binomial variance formula. The z-score measures how far the observed clicks deviate from the expected.\n",
    "- Step 3: The p-value is derived from the normal distribution, assuming the central limit theorem applies (valid for large \n",
    "𝑛\n",
    "n).\n",
    "- Analysis: The manual p-value should closely match the z-test p-value, confirming the test’s validity. Discrepancies may arise from rounding or small sample sizes."
   ]
  },
  {
   "cell_type": "markdown",
   "metadata": {},
   "source": [
    "## Summary\n",
    "\n",
    "In this lab, you continued to get more practice designing and conducting AB tests. This required additional work preprocessing and formulating the initial problem in a suitable manner. Additionally, you also saw how to verify results, strengthening your knowledge of binomial variables, and reviewing initial statistical concepts of the central limit theorem, standard deviation, z-scores, and their accompanying p-values."
   ]
  }
 ],
 "metadata": {
  "kernelspec": {
   "display_name": "Python 3",
   "language": "python",
   "name": "python3"
  },
  "language_info": {
   "codemirror_mode": {
    "name": "ipython",
    "version": 3
   },
   "file_extension": ".py",
   "mimetype": "text/x-python",
   "name": "python",
   "nbconvert_exporter": "python",
   "pygments_lexer": "ipython3",
   "version": "3.8.5"
  },
  "toc": {
   "base_numbering": 1,
   "nav_menu": {},
   "number_sections": true,
   "sideBar": true,
   "skip_h1_title": true,
   "title_cell": "Table of Contents",
   "title_sidebar": "Contents",
   "toc_cell": true,
   "toc_position": {},
   "toc_section_display": true,
   "toc_window_display": true
  }
 },
 "nbformat": 4,
 "nbformat_minor": 2
}
